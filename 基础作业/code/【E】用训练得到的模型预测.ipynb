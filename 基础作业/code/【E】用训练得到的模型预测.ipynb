{
 "cells": [
  {
   "cell_type": "markdown",
   "id": "4ed79319-5f77-414e-8645-7aa12b26ad81",
   "metadata": {},
   "source": [
    "# 用训练得到的模型预测\n",
    "\n",
    "同济子豪兄 2023-2-6"
   ]
  },
  {
   "cell_type": "markdown",
   "id": "f7e25f98-06ad-471d-88c7-607a5e88b531",
   "metadata": {},
   "source": [
    "## 导入工具包"
   ]
  },
  {
   "cell_type": "code",
   "execution_count": 1,
   "id": "b844af32-81ba-4098-8290-3826c1c44a24",
   "metadata": {},
   "outputs": [],
   "source": [
    "import numpy as np\n",
    "import matplotlib.pyplot as plt\n",
    "%matplotlib inline\n",
    "\n",
    "from mmseg.apis import init_model, inference_model, show_result_pyplot\n",
    "import mmcv\n",
    "import cv2"
   ]
  },
  {
   "cell_type": "markdown",
   "id": "6fabdfd0-fe1b-46a2-9351-a9ff55155582",
   "metadata": {},
   "source": [
    "## 载入模型"
   ]
  },
  {
   "cell_type": "code",
   "execution_count": 2,
   "id": "aae69f95-9733-4e69-9136-a9c33b04014a",
   "metadata": {
    "tags": []
   },
   "outputs": [],
   "source": [
    "# 载入 config 配置文件\n",
    "from mmengine import Config\n",
    "cfg = Config.fromfile('new_cfg.py')"
   ]
  },
  {
   "cell_type": "code",
   "execution_count": 3,
   "id": "f9845ee3-4736-49d9-8b82-25e9e4fd558e",
   "metadata": {},
   "outputs": [
    {
     "name": "stdout",
     "output_type": "stream",
     "text": [
      "02/10 18:27:43 - mmengine - INFO - \n",
      "------------------------------------------------------------\n",
      "System environment:\n",
      "    sys.platform: linux\n",
      "    Python: 3.8.10 (default, Jun  4 2021, 15:09:15) [GCC 7.5.0]\n",
      "    CUDA available: True\n",
      "    numpy_random_seed: 0\n",
      "    GPU 0: Tesla P40\n",
      "    CUDA_HOME: /usr/local/cuda\n",
      "    NVCC: Cuda compilation tools, release 11.3, V11.3.109\n",
      "    GCC: gcc (Ubuntu 9.4.0-1ubuntu1~20.04.1) 9.4.0\n",
      "    PyTorch: 1.10.1+cu113\n",
      "    PyTorch compiling details: PyTorch built with:\n",
      "  - GCC 7.3\n",
      "  - C++ Version: 201402\n",
      "  - Intel(R) Math Kernel Library Version 2020.0.0 Product Build 20191122 for Intel(R) 64 architecture applications\n",
      "  - Intel(R) MKL-DNN v2.2.3 (Git Hash 7336ca9f055cf1bfa13efb658fe15dc9b41f0740)\n",
      "  - OpenMP 201511 (a.k.a. OpenMP 4.5)\n",
      "  - LAPACK is enabled (usually provided by MKL)\n",
      "  - NNPACK is enabled\n",
      "  - CPU capability usage: AVX2\n",
      "  - CUDA Runtime 11.3\n",
      "  - NVCC architecture flags: -gencode;arch=compute_37,code=sm_37;-gencode;arch=compute_50,code=sm_50;-gencode;arch=compute_60,code=sm_60;-gencode;arch=compute_70,code=sm_70;-gencode;arch=compute_75,code=sm_75;-gencode;arch=compute_80,code=sm_80;-gencode;arch=compute_86,code=sm_86\n",
      "  - CuDNN 8.2\n",
      "  - Magma 2.5.2\n",
      "  - Build settings: BLAS_INFO=mkl, BUILD_TYPE=Release, CUDA_VERSION=11.3, CUDNN_VERSION=8.2.0, CXX_COMPILER=/opt/rh/devtoolset-7/root/usr/bin/c++, CXX_FLAGS= -Wno-deprecated -fvisibility-inlines-hidden -DUSE_PTHREADPOOL -fopenmp -DNDEBUG -DUSE_KINETO -DUSE_FBGEMM -DUSE_QNNPACK -DUSE_PYTORCH_QNNPACK -DUSE_XNNPACK -DSYMBOLICATE_MOBILE_DEBUG_HANDLE -DEDGE_PROFILER_USE_KINETO -O2 -fPIC -Wno-narrowing -Wall -Wextra -Werror=return-type -Wno-missing-field-initializers -Wno-type-limits -Wno-array-bounds -Wno-unknown-pragmas -Wno-sign-compare -Wno-unused-parameter -Wno-unused-variable -Wno-unused-function -Wno-unused-result -Wno-unused-local-typedefs -Wno-strict-overflow -Wno-strict-aliasing -Wno-error=deprecated-declarations -Wno-stringop-overflow -Wno-psabi -Wno-error=pedantic -Wno-error=redundant-decls -Wno-error=old-style-cast -fdiagnostics-color=always -faligned-new -Wno-unused-but-set-variable -Wno-maybe-uninitialized -fno-math-errno -fno-trapping-math -Werror=format -Wno-stringop-overflow, LAPACK_INFO=mkl, PERF_WITH_AVX=1, PERF_WITH_AVX2=1, PERF_WITH_AVX512=1, TORCH_VERSION=1.10.1, USE_CUDA=ON, USE_CUDNN=ON, USE_EXCEPTION_PTR=1, USE_GFLAGS=OFF, USE_GLOG=OFF, USE_MKL=ON, USE_MKLDNN=ON, USE_MPI=OFF, USE_NCCL=ON, USE_NNPACK=ON, USE_OPENMP=ON, \n",
      "\n",
      "    TorchVision: 0.11.2+cu113\n",
      "    OpenCV: 4.6.0\n",
      "    MMEngine: 0.3.2\n",
      "\n",
      "Runtime environment:\n",
      "    cudnn_benchmark: True\n",
      "    mp_cfg: {'mp_start_method': 'fork', 'opencv_num_threads': 0}\n",
      "    dist_cfg: {'backend': 'nccl'}\n",
      "    seed: 0\n",
      "    Distributed launcher: none\n",
      "    Distributed training: False\n",
      "    GPU number: 1\n",
      "------------------------------------------------------------\n",
      "\n",
      "02/10 18:27:44 - mmengine - INFO - Config:\n",
      "norm_cfg = dict(type='BN', requires_grad=True)\n",
      "data_preprocessor = dict(\n",
      "    type='SegDataPreProcessor',\n",
      "    mean=[123.675, 116.28, 103.53],\n",
      "    std=[58.395, 57.12, 57.375],\n",
      "    bgr_to_rgb=True,\n",
      "    pad_val=0,\n",
      "    seg_pad_val=255,\n",
      "    size=(512, 1024))\n",
      "model = dict(\n",
      "    type='EncoderDecoder',\n",
      "    data_preprocessor=dict(\n",
      "        type='SegDataPreProcessor',\n",
      "        mean=[123.675, 116.28, 103.53],\n",
      "        std=[58.395, 57.12, 57.375],\n",
      "        bgr_to_rgb=True,\n",
      "        pad_val=0,\n",
      "        seg_pad_val=255,\n",
      "        size=(256, 256)),\n",
      "    pretrained='open-mmlab://resnet50_v1c',\n",
      "    backbone=dict(\n",
      "        type='ResNetV1c',\n",
      "        depth=50,\n",
      "        num_stages=4,\n",
      "        out_indices=(0, 1, 2, 3),\n",
      "        dilations=(1, 1, 2, 4),\n",
      "        strides=(1, 2, 1, 1),\n",
      "        norm_cfg=dict(type='BN', requires_grad=True),\n",
      "        norm_eval=False,\n",
      "        style='pytorch',\n",
      "        contract_dilation=True),\n",
      "    decode_head=dict(\n",
      "        type='PSPHead',\n",
      "        in_channels=2048,\n",
      "        in_index=3,\n",
      "        channels=512,\n",
      "        pool_scales=(1, 2, 3, 6),\n",
      "        dropout_ratio=0.1,\n",
      "        num_classes=2,\n",
      "        norm_cfg=dict(type='BN', requires_grad=True),\n",
      "        align_corners=False,\n",
      "        loss_decode=dict(\n",
      "            type='CrossEntropyLoss', use_sigmoid=False, loss_weight=1.0)),\n",
      "    auxiliary_head=dict(\n",
      "        type='FCNHead',\n",
      "        in_channels=1024,\n",
      "        in_index=2,\n",
      "        channels=256,\n",
      "        num_convs=1,\n",
      "        concat_input=False,\n",
      "        dropout_ratio=0.1,\n",
      "        num_classes=2,\n",
      "        norm_cfg=dict(type='BN', requires_grad=True),\n",
      "        align_corners=False,\n",
      "        loss_decode=dict(\n",
      "            type='CrossEntropyLoss', use_sigmoid=False, loss_weight=0.4)),\n",
      "    train_cfg=dict(),\n",
      "    test_cfg=dict(mode='whole'))\n",
      "dataset_type = 'StanfordBackgroundDataset'\n",
      "data_root = 'Glomeruli-dataset'\n",
      "crop_size = (256, 256)\n",
      "train_pipeline = [\n",
      "    dict(type='LoadImageFromFile'),\n",
      "    dict(type='LoadAnnotations'),\n",
      "    dict(\n",
      "        type='RandomResize',\n",
      "        scale=(320, 240),\n",
      "        ratio_range=(0.5, 2.0),\n",
      "        keep_ratio=True),\n",
      "    dict(type='RandomCrop', crop_size=(256, 256), cat_max_ratio=0.75),\n",
      "    dict(type='RandomFlip', prob=0.5),\n",
      "    dict(type='PackSegInputs')\n",
      "]\n",
      "test_pipeline = [\n",
      "    dict(type='LoadImageFromFile'),\n",
      "    dict(type='Resize', scale=(320, 240), keep_ratio=True),\n",
      "    dict(type='LoadAnnotations'),\n",
      "    dict(type='PackSegInputs')\n",
      "]\n",
      "img_ratios = [0.5, 0.75, 1.0, 1.25, 1.5, 1.75]\n",
      "tta_pipeline = [\n",
      "    dict(type='LoadImageFromFile', backend_args=dict(backend='local')),\n",
      "    dict(\n",
      "        type='TestTimeAug',\n",
      "        transforms=[[{\n",
      "            'type': 'Resize',\n",
      "            'scale_factor': 0.5,\n",
      "            'keep_ratio': True\n",
      "        }, {\n",
      "            'type': 'Resize',\n",
      "            'scale_factor': 0.75,\n",
      "            'keep_ratio': True\n",
      "        }, {\n",
      "            'type': 'Resize',\n",
      "            'scale_factor': 1.0,\n",
      "            'keep_ratio': True\n",
      "        }, {\n",
      "            'type': 'Resize',\n",
      "            'scale_factor': 1.25,\n",
      "            'keep_ratio': True\n",
      "        }, {\n",
      "            'type': 'Resize',\n",
      "            'scale_factor': 1.5,\n",
      "            'keep_ratio': True\n",
      "        }, {\n",
      "            'type': 'Resize',\n",
      "            'scale_factor': 1.75,\n",
      "            'keep_ratio': True\n",
      "        }],\n",
      "                    [{\n",
      "                        'type': 'RandomFlip',\n",
      "                        'prob': 0.0,\n",
      "                        'direction': 'horizontal'\n",
      "                    }, {\n",
      "                        'type': 'RandomFlip',\n",
      "                        'prob': 1.0,\n",
      "                        'direction': 'horizontal'\n",
      "                    }], [{\n",
      "                        'type': 'LoadAnnotations'\n",
      "                    }], [{\n",
      "                        'type': 'PackSegInputs'\n",
      "                    }]])\n",
      "]\n",
      "train_dataloader = dict(\n",
      "    batch_size=8,\n",
      "    num_workers=2,\n",
      "    persistent_workers=True,\n",
      "    sampler=dict(type='InfiniteSampler', shuffle=True),\n",
      "    dataset=dict(\n",
      "        type='StanfordBackgroundDataset',\n",
      "        data_root='Glomeruli-dataset',\n",
      "        data_prefix=dict(img_path='images', seg_map_path='masks'),\n",
      "        pipeline=[\n",
      "            dict(type='LoadImageFromFile'),\n",
      "            dict(type='LoadAnnotations'),\n",
      "            dict(\n",
      "                type='RandomResize',\n",
      "                scale=(320, 240),\n",
      "                ratio_range=(0.5, 2.0),\n",
      "                keep_ratio=True),\n",
      "            dict(type='RandomCrop', crop_size=(256, 256), cat_max_ratio=0.75),\n",
      "            dict(type='RandomFlip', prob=0.5),\n",
      "            dict(type='PackSegInputs')\n",
      "        ],\n",
      "        ann_file='splits/train.txt'))\n",
      "val_dataloader = dict(\n",
      "    batch_size=1,\n",
      "    num_workers=4,\n",
      "    persistent_workers=True,\n",
      "    sampler=dict(type='DefaultSampler', shuffle=False),\n",
      "    dataset=dict(\n",
      "        type='StanfordBackgroundDataset',\n",
      "        data_root='Glomeruli-dataset',\n",
      "        data_prefix=dict(img_path='images', seg_map_path='masks'),\n",
      "        pipeline=[\n",
      "            dict(type='LoadImageFromFile'),\n",
      "            dict(type='Resize', scale=(320, 240), keep_ratio=True),\n",
      "            dict(type='LoadAnnotations'),\n",
      "            dict(type='PackSegInputs')\n",
      "        ],\n",
      "        ann_file='splits/val.txt'))\n",
      "test_dataloader = dict(\n",
      "    batch_size=1,\n",
      "    num_workers=4,\n",
      "    persistent_workers=True,\n",
      "    sampler=dict(type='DefaultSampler', shuffle=False),\n",
      "    dataset=dict(\n",
      "        type='StanfordBackgroundDataset',\n",
      "        data_root='Glomeruli-dataset',\n",
      "        data_prefix=dict(img_path='images', seg_map_path='masks'),\n",
      "        pipeline=[\n",
      "            dict(type='LoadImageFromFile'),\n",
      "            dict(type='Resize', scale=(320, 240), keep_ratio=True),\n",
      "            dict(type='LoadAnnotations'),\n",
      "            dict(type='PackSegInputs')\n",
      "        ],\n",
      "        ann_file='splits/val.txt'))\n",
      "val_evaluator = dict(type='IoUMetric', iou_metrics=['mIoU'])\n",
      "test_evaluator = dict(type='IoUMetric', iou_metrics=['mIoU'])\n",
      "default_scope = 'mmseg'\n",
      "env_cfg = dict(\n",
      "    cudnn_benchmark=True,\n",
      "    mp_cfg=dict(mp_start_method='fork', opencv_num_threads=0),\n",
      "    dist_cfg=dict(backend='nccl'))\n",
      "vis_backends = [dict(type='LocalVisBackend')]\n",
      "visualizer = dict(\n",
      "    type='SegLocalVisualizer',\n",
      "    vis_backends=[dict(type='LocalVisBackend')],\n",
      "    name='visualizer')\n",
      "log_processor = dict(by_epoch=False)\n",
      "log_level = 'INFO'\n",
      "load_from = 'pspnet_r50-d8_512x1024_40k_cityscapes_20200605_003338-2966598c.pth'\n",
      "resume = False\n",
      "tta_model = dict(type='SegTTAModel')\n",
      "optimizer = dict(type='SGD', lr=0.01, momentum=0.9, weight_decay=0.0005)\n",
      "optim_wrapper = dict(\n",
      "    type='OptimWrapper',\n",
      "    optimizer=dict(type='SGD', lr=0.01, momentum=0.9, weight_decay=0.0005),\n",
      "    clip_grad=None)\n",
      "param_scheduler = [\n",
      "    dict(\n",
      "        type='PolyLR',\n",
      "        eta_min=0.0001,\n",
      "        power=0.9,\n",
      "        begin=0,\n",
      "        end=40000,\n",
      "        by_epoch=False)\n",
      "]\n",
      "train_cfg = dict(type='IterBasedTrainLoop', max_iters=800, val_interval=400)\n",
      "val_cfg = dict(type='ValLoop')\n",
      "test_cfg = dict(type='TestLoop')\n",
      "default_hooks = dict(\n",
      "    timer=dict(type='IterTimerHook'),\n",
      "    logger=dict(type='LoggerHook', interval=100, log_metric_by_epoch=False),\n",
      "    param_scheduler=dict(type='ParamSchedulerHook'),\n",
      "    checkpoint=dict(type='CheckpointHook', by_epoch=False, interval=400),\n",
      "    sampler_seed=dict(type='DistSamplerSeedHook'),\n",
      "    visualization=dict(type='SegVisualizationHook'))\n",
      "work_dir = './work_dirs/tutorial'\n",
      "randomness = dict(seed=0)\n",
      "\n",
      "02/10 18:27:44 - mmengine - INFO - Result has been saved to /root/autodl-tmp/MMSegmentation_Tutorials-main/20230206/【D1】Kaggle小鼠肾小球切片语义分割/work_dirs/tutorial/modules_statistic_results.json\n"
     ]
    },
    {
     "name": "stderr",
     "output_type": "stream",
     "text": [
      "/root/autodl-tmp/MMSegmentation_Tutorials-main/20230206/mmsegmentation/mmseg/models/backbones/resnet.py:431: UserWarning: DeprecationWarning: pretrained is a deprecated, please use \"init_cfg\" instead\n",
      "  warnings.warn('DeprecationWarning: pretrained is a deprecated, '\n",
      "/root/autodl-tmp/MMSegmentation_Tutorials-main/20230206/mmsegmentation/mmseg/models/decode_heads/decode_head.py:120: UserWarning: For binary segmentation, we suggest using`out_channels = 1` to define the outputchannels of segmentor, and use `threshold`to convert `seg_logits` into a predictionapplying a threshold\n",
      "  warnings.warn('For binary segmentation, we suggest using'\n",
      "/root/autodl-tmp/MMSegmentation_Tutorials-main/20230206/mmsegmentation/mmseg/models/builder.py:36: UserWarning: ``build_loss`` would be deprecated soon, please use ``mmseg.registry.MODELS.build()`` \n",
      "  warnings.warn('``build_loss`` would be deprecated soon, please use '\n",
      "/root/autodl-tmp/MMSegmentation_Tutorials-main/20230206/mmsegmentation/mmseg/models/losses/cross_entropy_loss.py:235: UserWarning: Default ``avg_non_ignore`` is False, if you would like to ignore the certain label and average loss over non-ignore labels, which is the same with PyTorch official cross_entropy, set ``avg_non_ignore=True``.\n",
      "  warnings.warn(\n"
     ]
    },
    {
     "name": "stdout",
     "output_type": "stream",
     "text": [
      "02/10 18:27:53 - mmengine - INFO - Distributed training is not used, all SyncBatchNorm (SyncBN) layers in the model will be automatically reverted to BatchNormXd layers if they are used.\n",
      "02/10 18:27:53 - mmengine - INFO - Hooks will be executed in the following order:\n",
      "before_run:\n",
      "(VERY_HIGH   ) RuntimeInfoHook                    \n",
      "(BELOW_NORMAL) LoggerHook                         \n",
      " -------------------- \n",
      "before_train:\n",
      "(VERY_HIGH   ) RuntimeInfoHook                    \n",
      "(NORMAL      ) IterTimerHook                      \n",
      "(VERY_LOW    ) CheckpointHook                     \n",
      " -------------------- \n",
      "before_train_epoch:\n",
      "(VERY_HIGH   ) RuntimeInfoHook                    \n",
      "(NORMAL      ) IterTimerHook                      \n",
      "(NORMAL      ) DistSamplerSeedHook                \n",
      " -------------------- \n",
      "before_train_iter:\n",
      "(VERY_HIGH   ) RuntimeInfoHook                    \n",
      "(NORMAL      ) IterTimerHook                      \n",
      " -------------------- \n",
      "after_train_iter:\n",
      "(VERY_HIGH   ) RuntimeInfoHook                    \n",
      "(NORMAL      ) IterTimerHook                      \n",
      "(NORMAL      ) SegVisualizationHook               \n",
      "(BELOW_NORMAL) LoggerHook                         \n",
      "(LOW         ) ParamSchedulerHook                 \n",
      "(VERY_LOW    ) CheckpointHook                     \n",
      " -------------------- \n",
      "after_train_epoch:\n",
      "(NORMAL      ) IterTimerHook                      \n",
      "(LOW         ) ParamSchedulerHook                 \n",
      "(VERY_LOW    ) CheckpointHook                     \n",
      " -------------------- \n",
      "before_val_epoch:\n",
      "(NORMAL      ) IterTimerHook                      \n",
      " -------------------- \n",
      "before_val_iter:\n",
      "(NORMAL      ) IterTimerHook                      \n",
      " -------------------- \n",
      "after_val_iter:\n",
      "(NORMAL      ) IterTimerHook                      \n",
      "(NORMAL      ) SegVisualizationHook               \n",
      "(BELOW_NORMAL) LoggerHook                         \n",
      " -------------------- \n",
      "after_val_epoch:\n",
      "(VERY_HIGH   ) RuntimeInfoHook                    \n",
      "(NORMAL      ) IterTimerHook                      \n",
      "(BELOW_NORMAL) LoggerHook                         \n",
      "(VERY_LOW    ) CheckpointHook                     \n",
      " -------------------- \n",
      "before_test_epoch:\n",
      "(NORMAL      ) IterTimerHook                      \n",
      " -------------------- \n",
      "before_test_iter:\n",
      "(NORMAL      ) IterTimerHook                      \n",
      " -------------------- \n",
      "after_test_iter:\n",
      "(NORMAL      ) IterTimerHook                      \n",
      "(NORMAL      ) SegVisualizationHook               \n",
      "(BELOW_NORMAL) LoggerHook                         \n",
      " -------------------- \n",
      "after_test_epoch:\n",
      "(VERY_HIGH   ) RuntimeInfoHook                    \n",
      "(NORMAL      ) IterTimerHook                      \n",
      "(BELOW_NORMAL) LoggerHook                         \n",
      " -------------------- \n",
      "after_run:\n",
      "(BELOW_NORMAL) LoggerHook                         \n",
      " -------------------- \n"
     ]
    },
    {
     "name": "stderr",
     "output_type": "stream",
     "text": [
      "/root/autodl-tmp/MMSegmentation_Tutorials-main/20230206/mmsegmentation/mmseg/engine/hooks/visualization_hook.py:61: UserWarning: The draw is False, it means that the hook for visualization will not take effect. The results will NOT be visualized or stored.\n",
      "  warnings.warn('The draw is False, it means that the '\n"
     ]
    }
   ],
   "source": [
    "from mmengine.runner import Runner\n",
    "from mmseg.utils import register_all_modules\n",
    "\n",
    "# register all modules in mmseg into the registries\n",
    "# do not init the default scope here because it will be init in the runner\n",
    "\n",
    "register_all_modules(init_default_scope=False)\n",
    "runner = Runner.from_cfg(cfg)"
   ]
  },
  {
   "cell_type": "code",
   "execution_count": 5,
   "id": "38a9452d-8c49-4471-b531-0a86b21c36fe",
   "metadata": {},
   "outputs": [
    {
     "name": "stdout",
     "output_type": "stream",
     "text": [
      "Loads checkpoint by local backend from path: ./work_dirs/iter_800.pth\n"
     ]
    }
   ],
   "source": [
    "# 初始化模型\n",
    "checkpoint_path = './work_dirs/iter_800.pth'\n",
    "model = init_model(cfg, checkpoint_path, 'cuda:0')"
   ]
  },
  {
   "cell_type": "markdown",
   "id": "57278085-2a25-499e-a0d1-cedab07ff494",
   "metadata": {},
   "source": [
    "## 载入测试集图像，或新图像"
   ]
  },
  {
   "cell_type": "code",
   "execution_count": 6,
   "id": "e8a13147-d508-4ddf-b390-5ec04d4e9ad1",
   "metadata": {},
   "outputs": [],
   "source": [
    "img = mmcv.imread('Glomeruli-dataset/images/VUHSK_1702_39.png')"
   ]
  },
  {
   "cell_type": "markdown",
   "id": "a2a3e071-939e-46de-b841-738bae1880d2",
   "metadata": {},
   "source": [
    "## 语义分割预测"
   ]
  },
  {
   "cell_type": "code",
   "execution_count": 7,
   "id": "50af1587-28db-472c-bc99-cec698415b60",
   "metadata": {},
   "outputs": [],
   "source": [
    "result = inference_model(model, img)"
   ]
  },
  {
   "cell_type": "code",
   "execution_count": 8,
   "id": "cc5a843a-99b9-4ff4-9ada-eda2c3b98c2b",
   "metadata": {},
   "outputs": [
    {
     "data": {
      "text/plain": [
       "['seg_logits', 'pred_sem_seg']"
      ]
     },
     "execution_count": 8,
     "metadata": {},
     "output_type": "execute_result"
    }
   ],
   "source": [
    "result.keys()"
   ]
  },
  {
   "cell_type": "code",
   "execution_count": 9,
   "id": "724cdf31-4bbf-48b9-945a-8dde5ed8c608",
   "metadata": {},
   "outputs": [],
   "source": [
    "pred_mask = result.pred_sem_seg.data[0].cpu().numpy()"
   ]
  },
  {
   "cell_type": "code",
   "execution_count": 10,
   "id": "6147d755-29e7-47e4-994b-f1cfd8e54192",
   "metadata": {},
   "outputs": [
    {
     "data": {
      "text/plain": [
       "(1024, 1024)"
      ]
     },
     "execution_count": 10,
     "metadata": {},
     "output_type": "execute_result"
    }
   ],
   "source": [
    "pred_mask.shape"
   ]
  },
  {
   "cell_type": "code",
   "execution_count": 11,
   "id": "f77e8a97-1a11-4830-9c5f-ce2ad7cf2389",
   "metadata": {},
   "outputs": [
    {
     "data": {
      "text/plain": [
       "array([0, 1])"
      ]
     },
     "execution_count": 11,
     "metadata": {},
     "output_type": "execute_result"
    }
   ],
   "source": [
    "np.unique(pred_mask)"
   ]
  },
  {
   "cell_type": "markdown",
   "id": "749066e0-2076-4aff-868d-916554d29f14",
   "metadata": {},
   "source": [
    "## 可视化语义分割预测结果"
   ]
  },
  {
   "cell_type": "code",
   "execution_count": 12,
   "id": "e8d0c314-d963-48af-ba8c-75f1b4bfc4d0",
   "metadata": {},
   "outputs": [
    {
     "data": {
      "image/png": "[encoded data removed]",
      "text/plain": [
       "<Figure size 432x288 with 1 Axes>"
      ]
     },
     "metadata": {
      "needs_background": "light"
     },
     "output_type": "display_data"
    }
   ],
   "source": [
    "plt.imshow(pred_mask)\n",
    "plt.show()"
   ]
  },
  {
   "cell_type": "code",
   "execution_count": 13,
   "id": "2302cba8-b7e0-4b3e-a924-6e8edebfb9b4",
   "metadata": {},
   "outputs": [
    {
     "name": "stderr",
     "output_type": "stream",
     "text": [
      "/root/miniconda3/lib/python3.8/site-packages/mmengine/visualization/visualizer.py:170: UserWarning: `Visualizer` backend is not initialized because save_dir is None.\n",
      "  warnings.warn('`Visualizer` backend is not initialized '\n"
     ]
    },
    {
     "data": {
      "image/png": "[encoded data removed]",
      "text/plain": [
       "<Figure size 432x288 with 1 Axes>"
      ]
     },
     "metadata": {
      "needs_background": "light"
     },
     "output_type": "display_data"
    }
   ],
   "source": [
    "# 可视化预测结果\n",
    "visualization = show_result_pyplot(model, img, result, opacity=0.7, out_file='pred.jpg')\n",
    "plt.imshow(mmcv.bgr2rgb(visualization))\n",
    "plt.show()"
   ]
  },
  {
   "cell_type": "markdown",
   "id": "375a5148-c2c1-44d7-bf26-f84359614150",
   "metadata": {},
   "source": [
    "## 语义分割预测结果-连通域分析"
   ]
  },
  {
   "cell_type": "code",
   "execution_count": 14,
   "id": "c98fcb5a-a2bf-43b3-8be6-f7db1b9cb17f",
   "metadata": {},
   "outputs": [
    {
     "data": {
      "image/png": "[encoded data removed]",
      "text/plain": [
       "<Figure size 432x288 with 1 Axes>"
      ]
     },
     "metadata": {
      "needs_background": "light"
     },
     "output_type": "display_data"
    }
   ],
   "source": [
    "plt.imshow(np.uint8(pred_mask))\n",
    "plt.show()"
   ]
  },
  {
   "cell_type": "code",
   "execution_count": 15,
   "id": "03db9c14-5bfe-4782-8bda-c35ed394c678",
   "metadata": {},
   "outputs": [],
   "source": [
    "connected = cv2.connectedComponentsWithStats(np.uint8(pred_mask), connectivity=4)"
   ]
  },
  {
   "cell_type": "code",
   "execution_count": 16,
   "id": "5f445400-1535-4e7f-88f4-103cbe992291",
   "metadata": {},
   "outputs": [
    {
     "data": {
      "text/plain": [
       "4"
      ]
     },
     "execution_count": 16,
     "metadata": {},
     "output_type": "execute_result"
    }
   ],
   "source": [
    "# 连通域个数（第一个有可能是全图，可以忽略）\n",
    "connected[0]"
   ]
  },
  {
   "cell_type": "code",
   "execution_count": 17,
   "id": "8749899f-1846-4f32-b806-7102b2e671fa",
   "metadata": {},
   "outputs": [
    {
     "data": {
      "text/plain": [
       "(1024, 1024)"
      ]
     },
     "execution_count": 17,
     "metadata": {},
     "output_type": "execute_result"
    }
   ],
   "source": [
    "# 用整数表示每个连通域区域\n",
    "connected[1].shape"
   ]
  },
  {
   "cell_type": "code",
   "execution_count": 18,
   "id": "44065281-7803-4a97-8655-e9d6d60097f9",
   "metadata": {},
   "outputs": [
    {
     "data": {
      "text/plain": [
       "array([0, 1, 2, 3], dtype=int32)"
      ]
     },
     "execution_count": 18,
     "metadata": {},
     "output_type": "execute_result"
    }
   ],
   "source": [
    "np.unique(connected[1])"
   ]
  },
  {
   "cell_type": "code",
   "execution_count": 19,
   "id": "b5814fed-2c79-4cc6-bf7e-21b63b38b945",
   "metadata": {},
   "outputs": [
    {
     "data": {
      "image/png": "[encoded data removed]",
      "text/plain": [
       "<Figure size 432x288 with 1 Axes>"
      ]
     },
     "metadata": {
      "needs_background": "light"
     },
     "output_type": "display_data"
    }
   ],
   "source": [
    "plt.imshow(connected[1])\n",
    "plt.show()"
   ]
  },
  {
   "cell_type": "code",
   "execution_count": 20,
   "id": "5c945142-75b9-43e5-af4c-fc6da005a2b1",
   "metadata": {},
   "outputs": [
    {
     "data": {
      "text/plain": [
       "array([[     0,      0,   1024,   1024, 883564],\n",
       "       [     0,      0,    186,    339,  47598],\n",
       "       [   457,      0,    179,    138,  18343],\n",
       "       [     0,    551,    282,    436,  99071]], dtype=int32)"
      ]
     },
     "execution_count": 20,
     "metadata": {},
     "output_type": "execute_result"
    }
   ],
   "source": [
    "# 每个连通域外接矩形的左上角X、左上角Y、宽度、高度、面积\n",
    "connected[2]"
   ]
  },
  {
   "cell_type": "code",
   "execution_count": 21,
   "id": "e70a57ce-3536-4df4-b893-b8768601fc1f",
   "metadata": {},
   "outputs": [
    {
     "data": {
      "text/plain": [
       "array([[578.02103866, 508.69685954],\n",
       "       [ 79.51995882, 181.86451111],\n",
       "       [542.68543859,  64.27950717],\n",
       "       [120.00053497, 777.67385007]])"
      ]
     },
     "execution_count": 21,
     "metadata": {},
     "output_type": "execute_result"
    }
   ],
   "source": [
    "# 每个连通域的质心坐标\n",
    "connected[3]"
   ]
  },
  {
   "cell_type": "markdown",
   "id": "300a8887-117c-40a1-a71e-1f29b5c69a63",
   "metadata": {},
   "source": [
    "## 获取测试集标注"
   ]
  },
  {
   "cell_type": "code",
   "execution_count": 22,
   "id": "0e5bdbd4-bb57-4a53-bc94-16caae296453",
   "metadata": {},
   "outputs": [],
   "source": [
    "label = mmcv.imread('Glomeruli-dataset/masks/VUHSK_1702_39.png')"
   ]
  },
  {
   "cell_type": "code",
   "execution_count": 23,
   "id": "1b8d085c-b8ab-4cf7-9c2a-5f606131e629",
   "metadata": {},
   "outputs": [],
   "source": [
    "label_mask = label[:,:,0]"
   ]
  },
  {
   "cell_type": "code",
   "execution_count": 24,
   "id": "979d52ed-d41a-4cf9-a455-1307c88b14e5",
   "metadata": {},
   "outputs": [
    {
     "data": {
      "text/plain": [
       "(1024, 1024)"
      ]
     },
     "execution_count": 24,
     "metadata": {},
     "output_type": "execute_result"
    }
   ],
   "source": [
    "label_mask.shape"
   ]
  },
  {
   "cell_type": "code",
   "execution_count": 25,
   "id": "b9235db2-655c-4c78-ae2a-3a8737d483c7",
   "metadata": {},
   "outputs": [
    {
     "data": {
      "text/plain": [
       "array([0, 1], dtype=uint8)"
      ]
     },
     "execution_count": 25,
     "metadata": {},
     "output_type": "execute_result"
    }
   ],
   "source": [
    "np.unique(label_mask)"
   ]
  },
  {
   "cell_type": "code",
   "execution_count": 26,
   "id": "149c26a1-81d2-4da0-ae3b-8385c13cb8c0",
   "metadata": {},
   "outputs": [
    {
     "data": {
      "image/png": "[encoded data removed]",
      "text/plain": [
       "<Figure size 432x288 with 1 Axes>"
      ]
     },
     "metadata": {
      "needs_background": "light"
     },
     "output_type": "display_data"
    }
   ],
   "source": [
    "plt.imshow(label_mask)\n",
    "plt.show()"
   ]
  },
  {
   "cell_type": "markdown",
   "id": "2fc3d2ba-38dd-4036-bb97-aac147a24c6b",
   "metadata": {},
   "source": [
    "## 对比测试集标注和语义分割预测结果"
   ]
  },
  {
   "cell_type": "code",
   "execution_count": 27,
   "id": "37847768-e440-4ad4-8b29-9a3b18f09b25",
   "metadata": {},
   "outputs": [
    {
     "data": {
      "text/plain": [
       "(1024, 1024)"
      ]
     },
     "execution_count": 27,
     "metadata": {},
     "output_type": "execute_result"
    }
   ],
   "source": [
    "# 测试集标注\n",
    "label_mask.shape"
   ]
  },
  {
   "cell_type": "code",
   "execution_count": 28,
   "id": "27f95ae7-cc56-4462-abff-43c2c0483e3b",
   "metadata": {},
   "outputs": [
    {
     "data": {
      "text/plain": [
       "(1024, 1024)"
      ]
     },
     "execution_count": 28,
     "metadata": {},
     "output_type": "execute_result"
    }
   ],
   "source": [
    "# 语义分割预测结果\n",
    "pred_mask.shape"
   ]
  },
  {
   "cell_type": "code",
   "execution_count": 29,
   "id": "4bbcfba1-1f34-4211-97d3-5b0d2009748b",
   "metadata": {},
   "outputs": [],
   "source": [
    "# 真实为前景，预测为前景\n",
    "TP = (label_mask == 1) & (pred_mask==1)"
   ]
  },
  {
   "cell_type": "code",
   "execution_count": 30,
   "id": "bf941437-777e-40a6-bf0d-f257692dfee2",
   "metadata": {},
   "outputs": [],
   "source": [
    "# 真实为背景，预测为背景\n",
    "TN = (label_mask == 0) & (pred_mask==0)"
   ]
  },
  {
   "cell_type": "code",
   "execution_count": 31,
   "id": "f5420054-cd4c-4b5c-af60-287c16daccfb",
   "metadata": {},
   "outputs": [],
   "source": [
    "# 真实为前景，预测为背景\n",
    "FN = (label_mask == 1) & (pred_mask==0)"
   ]
  },
  {
   "cell_type": "code",
   "execution_count": 32,
   "id": "deeb7a73-0b71-4fe0-976a-3103051cd84e",
   "metadata": {},
   "outputs": [],
   "source": [
    "# 真实为背景，预测为前景\n",
    "FP = (label_mask == 0) & (pred_mask==1)"
   ]
  },
  {
   "cell_type": "code",
   "execution_count": 33,
   "id": "ef98152c-7899-433d-b8fd-6074825e8aa6",
   "metadata": {},
   "outputs": [
    {
     "data": {
      "image/png": "[encoded data removed]",
      "text/plain": [
       "<Figure size 432x288 with 1 Axes>"
      ]
     },
     "metadata": {
      "needs_background": "light"
     },
     "output_type": "display_data"
    }
   ],
   "source": [
    "plt.imshow(TP)\n",
    "plt.show()"
   ]
  },
  {
   "cell_type": "code",
   "execution_count": 34,
   "id": "2e367cb9-f91d-40b7-b929-29b6a26bcd9f",
   "metadata": {},
   "outputs": [],
   "source": [
    "confusion_map = TP * 255 + FP * 150 + FN * 80 + TN * 10"
   ]
  },
  {
   "cell_type": "code",
   "execution_count": 35,
   "id": "f6c0f125-3013-4b60-a73c-61d5e30b6739",
   "metadata": {},
   "outputs": [
    {
     "data": {
      "image/png": "[encoded data removed]",
      "text/plain": [
       "<Figure size 432x288 with 1 Axes>"
      ]
     },
     "metadata": {
      "needs_background": "light"
     },
     "output_type": "display_data"
    }
   ],
   "source": [
    "plt.imshow(confusion_map)\n",
    "plt.show()"
   ]
  },
  {
   "cell_type": "markdown",
   "id": "07717912-527d-450e-9312-d04980d39ad8",
   "metadata": {},
   "source": [
    "## 混淆矩阵"
   ]
  },
  {
   "cell_type": "code",
   "execution_count": 38,
   "id": "b7495727-06e7-4842-807e-184683c8b034",
   "metadata": {},
   "outputs": [],
   "source": [
    "from sklearn.metrics import confusion_matrix"
   ]
  },
  {
   "cell_type": "code",
   "execution_count": 40,
   "id": "28959a23-310d-49f0-b703-56fea8397dfb",
   "metadata": {},
   "outputs": [],
   "source": [
    "confusion_matrix_model = confusion_matrix(label_mask.flatten(), pred_mask.flatten())"
   ]
  },
  {
   "cell_type": "code",
   "execution_count": 41,
   "id": "7344027e-3673-4cd0-b77c-2fa572175da1",
   "metadata": {},
   "outputs": [],
   "source": [
    "import itertools\n",
    "def cnf_matrix_plotter(cm, classes, cmap=plt.cm.Blues):\n",
    "    \"\"\"\n",
    "    传入混淆矩阵和标签名称列表，绘制混淆矩阵\n",
    "    \"\"\"\n",
    "    plt.figure(figsize=(10, 10))\n",
    "    \n",
    "    plt.imshow(cm, interpolation='nearest', cmap=cmap)\n",
    "    # plt.colorbar() # 色条\n",
    "    tick_marks = np.arange(len(classes))\n",
    "    \n",
    "    plt.title('Confusion Matrix', fontsize=30)\n",
    "    plt.xlabel('Pred', fontsize=25, c='r')\n",
    "    plt.ylabel('True', fontsize=25, c='r')\n",
    "    plt.tick_params(labelsize=16) # 设置类别文字大小\n",
    "    plt.xticks(tick_marks, classes, rotation=90) # 横轴文字旋转\n",
    "    plt.yticks(tick_marks, classes)\n",
    "    \n",
    "    # 写数字\n",
    "    threshold = cm.max() / 2.\n",
    "    for i, j in itertools.product(range(cm.shape[0]), range(cm.shape[1])):\n",
    "        plt.text(j, i, cm[i, j],\n",
    "                 horizontalalignment=\"center\",\n",
    "                 color=\"white\" if cm[i, j] > threshold else \"black\",\n",
    "                 fontsize=12)\n",
    "\n",
    "    plt.tight_layout()\n",
    "\n",
    "    plt.savefig('混淆矩阵.pdf', dpi=300) # 保存图像\n",
    "    plt.show()"
   ]
  },
  {
   "cell_type": "code",
   "execution_count": 43,
   "id": "cbe1e039-5169-4b67-975a-236571cf9128",
   "metadata": {},
   "outputs": [
    {
     "data": {
      "image/png": "[encoded data removed]",
      "text/plain": [
       "<Figure size 720x720 with 1 Axes>"
      ]
     },
     "metadata": {
      "needs_background": "light"
     },
     "output_type": "display_data"
    }
   ],
   "source": [
    "classes = ('background', 'glomeruili')\n",
    "cnf_matrix_plotter(confusion_matrix_model, classes, cmap='Blues')"
   ]
  },
  {
   "cell_type": "code",
   "execution_count": null,
   "id": "b27a1124-3e6f-4785-80bd-54b10ea12529",
   "metadata": {},
   "outputs": [],
   "source": []
  }
 ],
 "metadata": {
  "kernelspec": {
   "display_name": "Python 3 (ipykernel)",
   "language": "python",
   "name": "python3"
  },
  "language_info": {
   "codemirror_mode": {
    "name": "ipython",
    "version": 3
   },
   "file_extension": ".py",
   "mimetype": "text/x-python",
   "name": "python",
   "nbconvert_exporter": "python",
   "pygments_lexer": "ipython3",
   "version": "3.8.10"
  }
 },
 "nbformat": 4,
 "nbformat_minor": 5
}
